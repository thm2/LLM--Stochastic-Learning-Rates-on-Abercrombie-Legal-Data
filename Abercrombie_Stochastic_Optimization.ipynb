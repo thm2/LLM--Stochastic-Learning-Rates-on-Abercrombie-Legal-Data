{
  "nbformat": 4,
  "nbformat_minor": 0,
  "metadata": {
    "colab": {
      "provenance": []
    },
    "kernelspec": {
      "name": "python3",
      "display_name": "Python 3"
    },
    "language_info": {
      "name": "python"
    },
    "widgets": {
      "application/vnd.jupyter.widget-state+json": {
        "ef88ad49b805465cbe668db7c64a08e9": {
          "model_module": "@jupyter-widgets/controls",
          "model_name": "HBoxModel",
          "model_module_version": "1.5.0",
          "state": {
            "_dom_classes": [],
            "_model_module": "@jupyter-widgets/controls",
            "_model_module_version": "1.5.0",
            "_model_name": "HBoxModel",
            "_view_count": null,
            "_view_module": "@jupyter-widgets/controls",
            "_view_module_version": "1.5.0",
            "_view_name": "HBoxView",
            "box_style": "",
            "children": [
              "IPY_MODEL_61c6e58ce33a4ee89afb300d10f7198c",
              "IPY_MODEL_24f6a8029e3e4e879769d9098830d824",
              "IPY_MODEL_a21b215fa1e94e7eabf726f63a7e0014"
            ],
            "layout": "IPY_MODEL_6fc9d87c8ac14b2e8698894465f850a4"
          }
        },
        "61c6e58ce33a4ee89afb300d10f7198c": {
          "model_module": "@jupyter-widgets/controls",
          "model_name": "HTMLModel",
          "model_module_version": "1.5.0",
          "state": {
            "_dom_classes": [],
            "_model_module": "@jupyter-widgets/controls",
            "_model_module_version": "1.5.0",
            "_model_name": "HTMLModel",
            "_view_count": null,
            "_view_module": "@jupyter-widgets/controls",
            "_view_module_version": "1.5.0",
            "_view_name": "HTMLView",
            "description": "",
            "description_tooltip": null,
            "layout": "IPY_MODEL_88805521bd7a4b15892fc40fb062ad3e",
            "placeholder": "​",
            "style": "IPY_MODEL_44db82eeb5a449d8b0d73a006adb5b9c",
            "value": "100%"
          }
        },
        "24f6a8029e3e4e879769d9098830d824": {
          "model_module": "@jupyter-widgets/controls",
          "model_name": "FloatProgressModel",
          "model_module_version": "1.5.0",
          "state": {
            "_dom_classes": [],
            "_model_module": "@jupyter-widgets/controls",
            "_model_module_version": "1.5.0",
            "_model_name": "FloatProgressModel",
            "_view_count": null,
            "_view_module": "@jupyter-widgets/controls",
            "_view_module_version": "1.5.0",
            "_view_name": "ProgressView",
            "bar_style": "success",
            "description": "",
            "description_tooltip": null,
            "layout": "IPY_MODEL_48472311eb1c4e6b878db5d5856fa2ac",
            "max": 40,
            "min": 0,
            "orientation": "horizontal",
            "style": "IPY_MODEL_b22568a88a94409dae459d9234fc00a6",
            "value": 40
          }
        },
        "a21b215fa1e94e7eabf726f63a7e0014": {
          "model_module": "@jupyter-widgets/controls",
          "model_name": "HTMLModel",
          "model_module_version": "1.5.0",
          "state": {
            "_dom_classes": [],
            "_model_module": "@jupyter-widgets/controls",
            "_model_module_version": "1.5.0",
            "_model_name": "HTMLModel",
            "_view_count": null,
            "_view_module": "@jupyter-widgets/controls",
            "_view_module_version": "1.5.0",
            "_view_name": "HTMLView",
            "description": "",
            "description_tooltip": null,
            "layout": "IPY_MODEL_73f7697a9ad145d4b7d57a07b807ae0e",
            "placeholder": "​",
            "style": "IPY_MODEL_bd3cef7cdae340e993b0494624ddea3c",
            "value": " 40/40 [11:49&lt;00:00, 18.18s/it]"
          }
        },
        "6fc9d87c8ac14b2e8698894465f850a4": {
          "model_module": "@jupyter-widgets/base",
          "model_name": "LayoutModel",
          "model_module_version": "1.2.0",
          "state": {
            "_model_module": "@jupyter-widgets/base",
            "_model_module_version": "1.2.0",
            "_model_name": "LayoutModel",
            "_view_count": null,
            "_view_module": "@jupyter-widgets/base",
            "_view_module_version": "1.2.0",
            "_view_name": "LayoutView",
            "align_content": null,
            "align_items": null,
            "align_self": null,
            "border": null,
            "bottom": null,
            "display": null,
            "flex": null,
            "flex_flow": null,
            "grid_area": null,
            "grid_auto_columns": null,
            "grid_auto_flow": null,
            "grid_auto_rows": null,
            "grid_column": null,
            "grid_gap": null,
            "grid_row": null,
            "grid_template_areas": null,
            "grid_template_columns": null,
            "grid_template_rows": null,
            "height": null,
            "justify_content": null,
            "justify_items": null,
            "left": null,
            "margin": null,
            "max_height": null,
            "max_width": null,
            "min_height": null,
            "min_width": null,
            "object_fit": null,
            "object_position": null,
            "order": null,
            "overflow": null,
            "overflow_x": null,
            "overflow_y": null,
            "padding": null,
            "right": null,
            "top": null,
            "visibility": null,
            "width": null
          }
        },
        "88805521bd7a4b15892fc40fb062ad3e": {
          "model_module": "@jupyter-widgets/base",
          "model_name": "LayoutModel",
          "model_module_version": "1.2.0",
          "state": {
            "_model_module": "@jupyter-widgets/base",
            "_model_module_version": "1.2.0",
            "_model_name": "LayoutModel",
            "_view_count": null,
            "_view_module": "@jupyter-widgets/base",
            "_view_module_version": "1.2.0",
            "_view_name": "LayoutView",
            "align_content": null,
            "align_items": null,
            "align_self": null,
            "border": null,
            "bottom": null,
            "display": null,
            "flex": null,
            "flex_flow": null,
            "grid_area": null,
            "grid_auto_columns": null,
            "grid_auto_flow": null,
            "grid_auto_rows": null,
            "grid_column": null,
            "grid_gap": null,
            "grid_row": null,
            "grid_template_areas": null,
            "grid_template_columns": null,
            "grid_template_rows": null,
            "height": null,
            "justify_content": null,
            "justify_items": null,
            "left": null,
            "margin": null,
            "max_height": null,
            "max_width": null,
            "min_height": null,
            "min_width": null,
            "object_fit": null,
            "object_position": null,
            "order": null,
            "overflow": null,
            "overflow_x": null,
            "overflow_y": null,
            "padding": null,
            "right": null,
            "top": null,
            "visibility": null,
            "width": null
          }
        },
        "44db82eeb5a449d8b0d73a006adb5b9c": {
          "model_module": "@jupyter-widgets/controls",
          "model_name": "DescriptionStyleModel",
          "model_module_version": "1.5.0",
          "state": {
            "_model_module": "@jupyter-widgets/controls",
            "_model_module_version": "1.5.0",
            "_model_name": "DescriptionStyleModel",
            "_view_count": null,
            "_view_module": "@jupyter-widgets/base",
            "_view_module_version": "1.2.0",
            "_view_name": "StyleView",
            "description_width": ""
          }
        },
        "48472311eb1c4e6b878db5d5856fa2ac": {
          "model_module": "@jupyter-widgets/base",
          "model_name": "LayoutModel",
          "model_module_version": "1.2.0",
          "state": {
            "_model_module": "@jupyter-widgets/base",
            "_model_module_version": "1.2.0",
            "_model_name": "LayoutModel",
            "_view_count": null,
            "_view_module": "@jupyter-widgets/base",
            "_view_module_version": "1.2.0",
            "_view_name": "LayoutView",
            "align_content": null,
            "align_items": null,
            "align_self": null,
            "border": null,
            "bottom": null,
            "display": null,
            "flex": null,
            "flex_flow": null,
            "grid_area": null,
            "grid_auto_columns": null,
            "grid_auto_flow": null,
            "grid_auto_rows": null,
            "grid_column": null,
            "grid_gap": null,
            "grid_row": null,
            "grid_template_areas": null,
            "grid_template_columns": null,
            "grid_template_rows": null,
            "height": null,
            "justify_content": null,
            "justify_items": null,
            "left": null,
            "margin": null,
            "max_height": null,
            "max_width": null,
            "min_height": null,
            "min_width": null,
            "object_fit": null,
            "object_position": null,
            "order": null,
            "overflow": null,
            "overflow_x": null,
            "overflow_y": null,
            "padding": null,
            "right": null,
            "top": null,
            "visibility": null,
            "width": null
          }
        },
        "b22568a88a94409dae459d9234fc00a6": {
          "model_module": "@jupyter-widgets/controls",
          "model_name": "ProgressStyleModel",
          "model_module_version": "1.5.0",
          "state": {
            "_model_module": "@jupyter-widgets/controls",
            "_model_module_version": "1.5.0",
            "_model_name": "ProgressStyleModel",
            "_view_count": null,
            "_view_module": "@jupyter-widgets/base",
            "_view_module_version": "1.2.0",
            "_view_name": "StyleView",
            "bar_color": null,
            "description_width": ""
          }
        },
        "73f7697a9ad145d4b7d57a07b807ae0e": {
          "model_module": "@jupyter-widgets/base",
          "model_name": "LayoutModel",
          "model_module_version": "1.2.0",
          "state": {
            "_model_module": "@jupyter-widgets/base",
            "_model_module_version": "1.2.0",
            "_model_name": "LayoutModel",
            "_view_count": null,
            "_view_module": "@jupyter-widgets/base",
            "_view_module_version": "1.2.0",
            "_view_name": "LayoutView",
            "align_content": null,
            "align_items": null,
            "align_self": null,
            "border": null,
            "bottom": null,
            "display": null,
            "flex": null,
            "flex_flow": null,
            "grid_area": null,
            "grid_auto_columns": null,
            "grid_auto_flow": null,
            "grid_auto_rows": null,
            "grid_column": null,
            "grid_gap": null,
            "grid_row": null,
            "grid_template_areas": null,
            "grid_template_columns": null,
            "grid_template_rows": null,
            "height": null,
            "justify_content": null,
            "justify_items": null,
            "left": null,
            "margin": null,
            "max_height": null,
            "max_width": null,
            "min_height": null,
            "min_width": null,
            "object_fit": null,
            "object_position": null,
            "order": null,
            "overflow": null,
            "overflow_x": null,
            "overflow_y": null,
            "padding": null,
            "right": null,
            "top": null,
            "visibility": null,
            "width": null
          }
        },
        "bd3cef7cdae340e993b0494624ddea3c": {
          "model_module": "@jupyter-widgets/controls",
          "model_name": "DescriptionStyleModel",
          "model_module_version": "1.5.0",
          "state": {
            "_model_module": "@jupyter-widgets/controls",
            "_model_module_version": "1.5.0",
            "_model_name": "DescriptionStyleModel",
            "_view_count": null,
            "_view_module": "@jupyter-widgets/base",
            "_view_module_version": "1.2.0",
            "_view_name": "StyleView",
            "description_width": ""
          }
        }
      }
    }
  },
  "cells": [
    {
      "cell_type": "markdown",
      "source": [
        "# LegalData Stochastic Optimization Performance Comparison\n",
        "\n"
      ],
      "metadata": {
        "id": "ozcJRAe6fR_b"
      }
    },
    {
      "cell_type": "code",
      "source": [
        "# Check GPU details if using GPU\n",
        "\n",
        "!nvidia-smi\n",
        "\n",
        "import torch\n",
        "import torch.optim as optim\n",
        "import time\n",
        "device = torch.device('cuda' if torch.cuda.is_available() else 'cpu')"
      ],
      "metadata": {
        "colab": {
          "base_uri": "https://localhost:8080/"
        },
        "id": "Z-S16GEfZvja",
        "outputId": "de8e07f8-45da-44b4-896b-c12752095ff4"
      },
      "execution_count": 19,
      "outputs": [
        {
          "output_type": "stream",
          "name": "stdout",
          "text": [
            "/bin/bash: line 1: nvidia-smi: command not found\n"
          ]
        }
      ]
    },
    {
      "cell_type": "markdown",
      "source": [
        "## Load datasets from google drive.\n",
        "\n",
        "The datasets can be loaded in any way. This notebook handles them by loading them from Google Drive for convenient use in Google Colab.\n",
        "\n"
      ],
      "metadata": {
        "id": "IaY1QbgWe1R4"
      }
    },
    {
      "cell_type": "code",
      "source": [
        "from google.colab import drive\n",
        "import pandas as pd\n",
        "from torch.utils.data import Dataset\n",
        "import os\n",
        "\n",
        "## Mount Google Drive\n",
        "\n",
        "drive.mount('/content/gdrive/')\n",
        "os.chdir(\"/content/gdrive/My Drive/task_folder\")\n",
        "\n",
        "## Get the datasets from Google Drive\n",
        "\n",
        "train_data = pd.read_csv('abercrombie_train.csv')\n",
        "test_data =  pd.read_csv('abercrombie_test.csv')\n",
        "\n",
        "train_data_df=pd.DataFrame(train_data)\n",
        "test_data_df=pd.DataFrame(test_data)\n",
        "\n",
        "\n",
        "# from sklearn.model_selection import train_test_split\n",
        "# full_dataset = train_data_df.append(test_data_df)\n",
        "# train_data_df, test_data_df = train_test_split(full_dataset, test_size=0.2)"
      ],
      "metadata": {
        "id": "PqZ0YnatGnak",
        "colab": {
          "base_uri": "https://localhost:8080/"
        },
        "outputId": "cbaf3854-0808-4599-aba5-43927e364c8c"
      },
      "execution_count": 20,
      "outputs": [
        {
          "output_type": "stream",
          "name": "stdout",
          "text": [
            "Drive already mounted at /content/gdrive/; to attempt to forcibly remount, call drive.mount(\"/content/gdrive/\", force_remount=True).\n"
          ]
        }
      ]
    },
    {
      "cell_type": "markdown",
      "source": [
        "## Create the Dataset class for the Abercrombie dataset"
      ],
      "metadata": {
        "id": "MZHrs2s2fgIb"
      }
    },
    {
      "cell_type": "code",
      "source": [
        "## Dataset class to feed into the Dataloader later\n",
        "\n",
        "class AbercrombieDataset(Dataset):\n",
        "    def __init__(self, data):\n",
        "        self.data = data\n",
        "\n",
        "    def __len__(self):\n",
        "        return len(self.data)\n",
        "\n",
        "    def __getitem__(self, index):\n",
        "        textt = self.data.iloc[index]['text']\n",
        "        labell = self.data.iloc[index]['answer']\n",
        "\n",
        "        return {'text':textt, 'label':labell}"
      ],
      "metadata": {
        "id": "Y6ekPsLu0MAM"
      },
      "execution_count": 21,
      "outputs": []
    },
    {
      "cell_type": "markdown",
      "source": [
        "## Create the GPT2 collator"
      ],
      "metadata": {
        "id": "8IgrX8LHfmoq"
      }
    },
    {
      "cell_type": "code",
      "source": [
        "# Class that appropriately manages the data, making them a homegeneous batch,\n",
        "# before feeding them into the GPT2 transformer model\n",
        "\n",
        "class Gpt2ClassificationCollator(object):\n",
        "    def __init__(self, use_tokenizer, labels_encoder, max_sequence_len=None):\n",
        "        self.use_tokenizer = use_tokenizer\n",
        "        self.max_sequence_len = max_sequence_len\n",
        "        self.labels_encoder = labels_encoder\n",
        "\n",
        "        return\n",
        "\n",
        "    def __call__(self, sequences):\n",
        "        texts = [sequence['text'] for sequence in sequences]\n",
        "        labels = [sequence['label'] for sequence in sequences]\n",
        "        labels = [self.labels_encoder[label] for label in labels]\n",
        "        inputs = self.use_tokenizer(text=texts, return_tensors=\"pt\", padding=True, truncation=True,  max_length=self.max_sequence_len)\n",
        "        inputs.update({'labels':torch.tensor(labels)})\n",
        "\n",
        "        return inputs"
      ],
      "metadata": {
        "id": "9sVnCe4Aq20c"
      },
      "execution_count": 22,
      "outputs": []
    },
    {
      "cell_type": "markdown",
      "source": [
        "## Train function"
      ],
      "metadata": {
        "id": "vUzEMutcfsgL"
      }
    },
    {
      "cell_type": "code",
      "source": [
        "## Train function\n",
        "def train(dataloader, optimizer_, device_):\n",
        "\n",
        "  # start_time = time.time()\n",
        "\n",
        "  predictions_labels = []\n",
        "  true_labels = []\n",
        "  total_loss = 0\n",
        "  train_losses = []\n",
        "\n",
        "  net.train()\n",
        "\n",
        "  ## Stochastic Learning Rate Parameters\n",
        "  c1=0.95\n",
        "  c2=1.1\n",
        "  beta=6 # dictates every when the Resetting UMSLR scheme resets\n",
        "\n",
        "  for i,batch in enumerate(dataloader):\n",
        "\n",
        "    true_labels += batch['labels'].numpy().flatten().tolist()\n",
        "    batch = {k:v.type(torch.long).to(device_) for k,v in batch.items()}\n",
        "\n",
        "    optimizer_.zero_grad()\n",
        "    for param_group in optimizer_.param_groups:\n",
        "\n",
        "        ### UMSLR ####\n",
        "        # param_group['lr'] *=torch.FloatTensor(1).uniform_(c1**(1/(i+1) ), c2**(1/(i+1 ))).item()\n",
        "\n",
        "        ### Resetting UMSLR ####\n",
        "        param_group['lr'] *=torch.FloatTensor(1).uniform_(c1**(1/((i+1)%beta+1) ), c2**(1/((i+1)%beta+1 ))).item()\n",
        "\n",
        "        ### Default Learning Rate ####\n",
        "        # param_group['lr']=param_group['lr']\n",
        "\n",
        "    ## GPT2ForSequenceClassification will be used as the model, which already\n",
        "    ## incorporates a classifier as its head, therefore its outputs are logits\n",
        "    outputs = net(**batch)\n",
        "    loss, logits = outputs[:2]\n",
        "    total_loss += loss.item()\n",
        "    loss.backward()\n",
        "    optimizer.step()\n",
        "\n",
        "    logits = logits.detach().cpu().numpy()\n",
        "    predictions_labels += logits.argmax(axis=-1).flatten().tolist()\n",
        "    avg_epoch_loss = total_loss / len(dataloader)\n",
        "\n",
        "  # print(time.time()-start_time)\n",
        "\n",
        "  return true_labels, predictions_labels, avg_epoch_loss, param_group['lr']\n"
      ],
      "metadata": {
        "id": "PmGATniBvPoI"
      },
      "execution_count": 23,
      "outputs": []
    },
    {
      "cell_type": "markdown",
      "source": [
        "## Test function"
      ],
      "metadata": {
        "id": "PKXDZldUfvwX"
      }
    },
    {
      "cell_type": "code",
      "source": [
        "## Test function\n",
        "\n",
        "def test(dataloader, device_):\n",
        "\n",
        "  predictions_labels = []\n",
        "  true_labels = []\n",
        "  total_loss = 0\n",
        "  net.eval()\n",
        "\n",
        "  # start_time = time.time()\n",
        "\n",
        "  for i,batch in enumerate(dataloader):\n",
        "\n",
        "    true_labels += batch['labels'].numpy().flatten().tolist()\n",
        "    batch = {k:v.type(torch.long).to(device_) for k,v in batch.items()}\n",
        "\n",
        "    with torch.no_grad():\n",
        "        outputs = net(**batch)\n",
        "        loss, logits = outputs[:2]\n",
        "        logits = logits.detach().cpu().numpy()\n",
        "        total_loss += loss.item()\n",
        "        predict_content = logits.argmax(axis=-1).flatten().tolist()\n",
        "        predictions_labels += predict_content\n",
        "\n",
        "  avg_epoch_loss = total_loss / len(dataloader)\n",
        "\n",
        "  # print(time.time()-start_time)\n",
        "\n",
        "  return true_labels, predictions_labels, avg_epoch_loss"
      ],
      "metadata": {
        "id": "mNOONs2x4hbU"
      },
      "execution_count": 24,
      "outputs": []
    },
    {
      "cell_type": "markdown",
      "source": [
        "## Create the data collator and the train/test dataloaders"
      ],
      "metadata": {
        "id": "7rgjmJlLfyOs"
      }
    },
    {
      "cell_type": "code",
      "source": [
        "from torch.utils.data import DataLoader\n",
        "from transformers import set_seed, GPT2Config, GPT2Tokenizer, GPT2ForSequenceClassification\n",
        "\n",
        "## The dataloader collator is created\n",
        "\n",
        "label_encoding = {'generic': 0, 'descriptive': 1, 'suggestive': 2, 'arbitrary':3 , 'fanciful':4 }\n",
        "tokenizer = GPT2Tokenizer.from_pretrained('gpt2')\n",
        "tokenizer.padding_side = \"left\"\n",
        "tokenizer.pad_token = tokenizer.eos_token\n",
        "max_length = 50\n",
        "\n",
        "gpt2_classificaiton_collator = Gpt2ClassificationCollator(use_tokenizer=tokenizer,\n",
        "                                                          labels_encoder=label_encoding,\n",
        "                                                          max_sequence_len=max_length)\n",
        "\n",
        "\n",
        "## The dataloaders are created\n",
        "\n",
        "batch_size = 1\n",
        "\n",
        "train_dataset = AbercrombieDataset(train_data_df)\n",
        "train_dataloader = DataLoader(train_dataset, batch_size=batch_size, shuffle=True,collate_fn=gpt2_classificaiton_collator)\n",
        "print('Created train dataloader with %d batches!'%len(train_dataloader))\n",
        "\n",
        "test_dataset  =  AbercrombieDataset(test_data_df)\n",
        "test_dataloader = DataLoader(test_dataset , batch_size=batch_size, shuffle=False, collate_fn=gpt2_classificaiton_collator)\n",
        "print('Created test dataloader with %d batches!'%len(test_dataloader))"
      ],
      "metadata": {
        "colab": {
          "base_uri": "https://localhost:8080/"
        },
        "id": "qEUD6jzn2DIK",
        "outputId": "34783207-f076-40cd-bb5b-e0de37475b8f"
      },
      "execution_count": 25,
      "outputs": [
        {
          "output_type": "stream",
          "name": "stdout",
          "text": [
            "Created train dataloader with 5 batches!\n",
            "Created test dataloader with 95 batches!\n"
          ]
        }
      ]
    },
    {
      "cell_type": "markdown",
      "source": [
        "## Construct the GPT2 neural network"
      ],
      "metadata": {
        "id": "97XcpWSof_VP"
      }
    },
    {
      "cell_type": "code",
      "source": [
        "## The GPT2 neural net is constructed in this cell and sent to the GPU,\n",
        "## if one is used\n",
        "\n",
        "from transformers import set_seed, GPT2Config, GPT2Tokenizer, GPT2ForSequenceClassification\n",
        "\n",
        "n_labels = len(label_encoding)\n",
        "\n",
        "net_config = GPT2Config.from_pretrained('gpt2', num_labels=n_labels)\n",
        "net = GPT2ForSequenceClassification.from_pretrained('gpt2', config=net_config)\n",
        "\n",
        "net.resize_token_embeddings(len(tokenizer))\n",
        "net.config.pad_token_id = net.config.eos_token_id\n",
        "\n",
        "net.to(device)"
      ],
      "metadata": {
        "colab": {
          "base_uri": "https://localhost:8080/"
        },
        "id": "25f_ylqQ4e9h",
        "outputId": "4107225b-217a-45e3-f2f4-7c0a6ed34342"
      },
      "execution_count": 26,
      "outputs": [
        {
          "output_type": "stream",
          "name": "stderr",
          "text": [
            "Some weights of GPT2ForSequenceClassification were not initialized from the model checkpoint at gpt2 and are newly initialized: ['score.weight']\n",
            "You should probably TRAIN this model on a down-stream task to be able to use it for predictions and inference.\n"
          ]
        },
        {
          "output_type": "execute_result",
          "data": {
            "text/plain": [
              "GPT2ForSequenceClassification(\n",
              "  (transformer): GPT2Model(\n",
              "    (wte): Embedding(50257, 768)\n",
              "    (wpe): Embedding(1024, 768)\n",
              "    (drop): Dropout(p=0.1, inplace=False)\n",
              "    (h): ModuleList(\n",
              "      (0-11): 12 x GPT2Block(\n",
              "        (ln_1): LayerNorm((768,), eps=1e-05, elementwise_affine=True)\n",
              "        (attn): GPT2Attention(\n",
              "          (c_attn): Conv1D()\n",
              "          (c_proj): Conv1D()\n",
              "          (attn_dropout): Dropout(p=0.1, inplace=False)\n",
              "          (resid_dropout): Dropout(p=0.1, inplace=False)\n",
              "        )\n",
              "        (ln_2): LayerNorm((768,), eps=1e-05, elementwise_affine=True)\n",
              "        (mlp): GPT2MLP(\n",
              "          (c_fc): Conv1D()\n",
              "          (c_proj): Conv1D()\n",
              "          (act): NewGELUActivation()\n",
              "          (dropout): Dropout(p=0.1, inplace=False)\n",
              "        )\n",
              "      )\n",
              "    )\n",
              "    (ln_f): LayerNorm((768,), eps=1e-05, elementwise_affine=True)\n",
              "  )\n",
              "  (score): Linear(in_features=768, out_features=5, bias=False)\n",
              ")"
            ]
          },
          "metadata": {},
          "execution_count": 26
        }
      ]
    },
    {
      "cell_type": "markdown",
      "source": [
        "## Results section"
      ],
      "metadata": {
        "id": "HkOXuIlygEFk"
      }
    },
    {
      "cell_type": "code",
      "source": [
        "## Code that produces the results\n",
        "\n",
        "from tqdm.notebook import tqdm\n",
        "from torch.utils.data import Dataset, DataLoader\n",
        "from sklearn.metrics import accuracy_score\n",
        "\n",
        "\n",
        "train_losses=[]\n",
        "test_losses=[]\n",
        "\n",
        "beta1=0.9\n",
        "beta2=0.999\n",
        "\n",
        "## Various optimization methods to choose from\n",
        "\n",
        "optimizer = optim.Adam(net.parameters(),betas=(beta1, beta2), lr=0.0001,amsgrad=True )\n",
        "# optimizer = optim.AdamW(net.parameters(), betas=(beta1, beta2), lr=0.0001)\n",
        "# optimizer = optim.Adam(net.parameters(), betas=(beta1, beta2), lr=0.0001, amsgrad=False )\n",
        "# optimizer = optim.SGD(net.parameters(), lr=0.00001)\n",
        "# optimizer = optim.SGD(net.parameters(), lr=0.000001, momentum=0.9, nesterov=True)\n",
        "# optimizer = optim.SGD(net.parameters(), lr=0.000001, momentum=0.9, nesterov=False)\n",
        "\n",
        "\n",
        "epochs = 40\n",
        "\n",
        "train_losses = []\n",
        "test_losses = []\n",
        "train_accs = []\n",
        "test_accs = []\n",
        "\n",
        "## Set the seed for reproduciblity\n",
        "torch.manual_seed(123)\n",
        "\n",
        "## Loop through each epoch.\n",
        "for epoch in tqdm(range(epochs)):\n",
        "  print('Epoch:',epoch+1)\n",
        "  running_loss = 0.0\n",
        "  net.train()\n",
        "\n",
        "  ## Get train loss and accuracy for epoch\n",
        "  train_labels, train_predict, train_loss, lr = train(train_dataloader, optimizer, device)\n",
        "  train_acc = accuracy_score(train_labels, train_predict)\n",
        "\n",
        "  ## Get train loss and accuracy for epoch\n",
        "  test_labels, test_predict, test_loss = test(test_dataloader, device)\n",
        "  test_acc = accuracy_score(test_labels, test_predict)\n",
        "\n",
        "  # Print loss and accuracy values\n",
        "  print(\"train_loss: %.5f - test_loss: %.5f - train_acc: %.5f - test_acc: %.5f \\n\"%(train_loss, test_loss, train_acc, test_acc))\n",
        "\n",
        "  # Store losses and accuracy\n",
        "  train_losses.append(train_loss)\n",
        "  test_losses.append(test_loss)\n",
        "  train_accs.append(train_acc)\n",
        "  test_accs.append(test_acc)"
      ],
      "metadata": {
        "colab": {
          "base_uri": "https://localhost:8080/",
          "height": 1000,
          "referenced_widgets": [
            "ef88ad49b805465cbe668db7c64a08e9",
            "61c6e58ce33a4ee89afb300d10f7198c",
            "24f6a8029e3e4e879769d9098830d824",
            "a21b215fa1e94e7eabf726f63a7e0014",
            "6fc9d87c8ac14b2e8698894465f850a4",
            "88805521bd7a4b15892fc40fb062ad3e",
            "44db82eeb5a449d8b0d73a006adb5b9c",
            "48472311eb1c4e6b878db5d5856fa2ac",
            "b22568a88a94409dae459d9234fc00a6",
            "73f7697a9ad145d4b7d57a07b807ae0e",
            "bd3cef7cdae340e993b0494624ddea3c"
          ]
        },
        "id": "jFnzEBOn4er7",
        "outputId": "e79c7079-b1b1-4077-8944-f8f0be500348"
      },
      "execution_count": 28,
      "outputs": [
        {
          "output_type": "display_data",
          "data": {
            "text/plain": [
              "  0%|          | 0/40 [00:00<?, ?it/s]"
            ],
            "application/vnd.jupyter.widget-view+json": {
              "version_major": 2,
              "version_minor": 0,
              "model_id": "ef88ad49b805465cbe668db7c64a08e9"
            }
          },
          "metadata": {}
        },
        {
          "output_type": "stream",
          "name": "stdout",
          "text": [
            "Epoch: 1\n",
            "train_loss: 3.13948 - test_loss: 4.49143 - train_acc: 0.40000 - test_acc: 0.20000 \n",
            "\n",
            "Epoch: 2\n",
            "train_loss: 5.08847 - test_loss: 4.16583 - train_acc: 0.20000 - test_acc: 0.20000 \n",
            "\n",
            "Epoch: 3\n",
            "train_loss: 3.99448 - test_loss: 3.83743 - train_acc: 0.20000 - test_acc: 0.18947 \n",
            "\n",
            "Epoch: 4\n",
            "train_loss: 3.95127 - test_loss: 3.63006 - train_acc: 0.20000 - test_acc: 0.21053 \n",
            "\n",
            "Epoch: 5\n",
            "train_loss: 4.06806 - test_loss: 3.46136 - train_acc: 0.20000 - test_acc: 0.29474 \n",
            "\n",
            "Epoch: 6\n",
            "train_loss: 1.91008 - test_loss: 3.35635 - train_acc: 0.20000 - test_acc: 0.26316 \n",
            "\n",
            "Epoch: 7\n",
            "train_loss: 3.59568 - test_loss: 3.21919 - train_acc: 0.20000 - test_acc: 0.27368 \n",
            "\n",
            "Epoch: 8\n",
            "train_loss: 3.75184 - test_loss: 3.04897 - train_acc: 0.20000 - test_acc: 0.25263 \n",
            "\n",
            "Epoch: 9\n",
            "train_loss: 3.77321 - test_loss: 2.84943 - train_acc: 0.20000 - test_acc: 0.24211 \n",
            "\n",
            "Epoch: 10\n",
            "train_loss: 3.18134 - test_loss: 2.67519 - train_acc: 0.00000 - test_acc: 0.16842 \n",
            "\n",
            "Epoch: 11\n",
            "train_loss: 2.37496 - test_loss: 2.49769 - train_acc: 0.20000 - test_acc: 0.18947 \n",
            "\n",
            "Epoch: 12\n",
            "train_loss: 2.88447 - test_loss: 2.30096 - train_acc: 0.20000 - test_acc: 0.24211 \n",
            "\n",
            "Epoch: 13\n",
            "train_loss: 2.37618 - test_loss: 2.14196 - train_acc: 0.40000 - test_acc: 0.18947 \n",
            "\n",
            "Epoch: 14\n",
            "train_loss: 1.41643 - test_loss: 1.98501 - train_acc: 0.20000 - test_acc: 0.16842 \n",
            "\n",
            "Epoch: 15\n",
            "train_loss: 1.77102 - test_loss: 1.88064 - train_acc: 0.00000 - test_acc: 0.18947 \n",
            "\n",
            "Epoch: 16\n",
            "train_loss: 1.89509 - test_loss: 1.77289 - train_acc: 0.20000 - test_acc: 0.25263 \n",
            "\n",
            "Epoch: 17\n",
            "train_loss: 1.56954 - test_loss: 1.66339 - train_acc: 0.20000 - test_acc: 0.23158 \n",
            "\n",
            "Epoch: 18\n",
            "train_loss: 1.59594 - test_loss: 1.64861 - train_acc: 0.40000 - test_acc: 0.27368 \n",
            "\n",
            "Epoch: 19\n",
            "train_loss: 2.03016 - test_loss: 1.69487 - train_acc: 0.00000 - test_acc: 0.21053 \n",
            "\n",
            "Epoch: 20\n",
            "train_loss: 2.09607 - test_loss: 1.72516 - train_acc: 0.40000 - test_acc: 0.22105 \n",
            "\n",
            "Epoch: 21\n",
            "train_loss: 1.51956 - test_loss: 1.75906 - train_acc: 0.40000 - test_acc: 0.20000 \n",
            "\n",
            "Epoch: 22\n",
            "train_loss: 1.95301 - test_loss: 1.66080 - train_acc: 0.00000 - test_acc: 0.20000 \n",
            "\n",
            "Epoch: 23\n",
            "train_loss: 1.34521 - test_loss: 1.65296 - train_acc: 0.20000 - test_acc: 0.21053 \n",
            "\n",
            "Epoch: 24\n",
            "train_loss: 1.55587 - test_loss: 1.68759 - train_acc: 0.20000 - test_acc: 0.20000 \n",
            "\n",
            "Epoch: 25\n",
            "train_loss: 1.83426 - test_loss: 1.67554 - train_acc: 0.20000 - test_acc: 0.20000 \n",
            "\n",
            "Epoch: 26\n",
            "train_loss: 1.57856 - test_loss: 1.66645 - train_acc: 0.40000 - test_acc: 0.26316 \n",
            "\n",
            "Epoch: 27\n",
            "train_loss: 1.63635 - test_loss: 1.64312 - train_acc: 0.20000 - test_acc: 0.12632 \n",
            "\n",
            "Epoch: 28\n",
            "train_loss: 1.71737 - test_loss: 1.70436 - train_acc: 0.00000 - test_acc: 0.21053 \n",
            "\n",
            "Epoch: 29\n",
            "train_loss: 1.80837 - test_loss: 1.72959 - train_acc: 0.20000 - test_acc: 0.22105 \n",
            "\n",
            "Epoch: 30\n",
            "train_loss: 1.57947 - test_loss: 1.71819 - train_acc: 0.20000 - test_acc: 0.21053 \n",
            "\n",
            "Epoch: 31\n",
            "train_loss: 2.12911 - test_loss: 1.66791 - train_acc: 0.00000 - test_acc: 0.24211 \n",
            "\n",
            "Epoch: 32\n",
            "train_loss: 1.94638 - test_loss: 1.64126 - train_acc: 0.00000 - test_acc: 0.18947 \n",
            "\n",
            "Epoch: 33\n",
            "train_loss: 1.87343 - test_loss: 1.65186 - train_acc: 0.00000 - test_acc: 0.24211 \n",
            "\n",
            "Epoch: 34\n",
            "train_loss: 1.40344 - test_loss: 1.69145 - train_acc: 0.20000 - test_acc: 0.23158 \n",
            "\n",
            "Epoch: 35\n",
            "train_loss: 1.84150 - test_loss: 1.66597 - train_acc: 0.20000 - test_acc: 0.25263 \n",
            "\n",
            "Epoch: 36\n",
            "train_loss: 1.92975 - test_loss: 1.68287 - train_acc: 0.00000 - test_acc: 0.18947 \n",
            "\n",
            "Epoch: 37\n",
            "train_loss: 1.72438 - test_loss: 1.64522 - train_acc: 0.00000 - test_acc: 0.22105 \n",
            "\n",
            "Epoch: 38\n",
            "train_loss: 1.67313 - test_loss: 1.68083 - train_acc: 0.20000 - test_acc: 0.16842 \n",
            "\n",
            "Epoch: 39\n",
            "train_loss: 2.11508 - test_loss: 1.65725 - train_acc: 0.00000 - test_acc: 0.17895 \n",
            "\n",
            "Epoch: 40\n",
            "train_loss: 1.61933 - test_loss: 1.63902 - train_acc: 0.20000 - test_acc: 0.25263 \n",
            "\n"
          ]
        }
      ]
    },
    {
      "cell_type": "markdown",
      "source": [
        "## Plot the loss and accuracy of the train/test data"
      ],
      "metadata": {
        "id": "cDX_SZANgOpG"
      }
    },
    {
      "cell_type": "code",
      "source": [
        "## Helper plotting function\n",
        "\n",
        "import matplotlib.pyplot as plt\n",
        "import numpy as np\n",
        "\n",
        "\n",
        "def plot_losses(train, val, ylabel=\"Loss\", title=\"Loss Plot\"):\n",
        "    plt.plot(train, label=\"Train\")\n",
        "    plt.plot(val, label=\"Test\")\n",
        "    plt.title(title)\n",
        "    plt.ylabel(ylabel)\n",
        "    plt.xlabel(\"Epoch\")\n",
        "    plt.xticks(np.arange(len(train)), np.arange(1, len(train)+1))\n",
        "    plt.legend()\n",
        "    plt.rcParams['xtick.labelsize'] = 10\n",
        "    plt.rcParams['ytick.labelsize'] = 10\n",
        "    plt.xticks(np.arange(1, 40, 2.0)) # provides xaxis clarity if using 40 epochs\n",
        "    plt.show()\n",
        "\n",
        "\n",
        "plot_losses(train_losses, test_losses)\n",
        "plot_losses(train_accs, test_accs, ylabel=\"Accuracy\", title=\"Accuracy Plot\")"
      ],
      "metadata": {
        "colab": {
          "base_uri": "https://localhost:8080/",
          "height": 927
        },
        "outputId": "9f6c1570-2612-4947-ac3e-a0425bf195e9",
        "id": "2Lu0inx2dMY8"
      },
      "execution_count": 32,
      "outputs": [
        {
          "output_type": "display_data",
          "data": {
            "text/plain": [
              "<Figure size 640x480 with 1 Axes>"
            ],
            "image/png": "[encoded data removed]"
          },
          "metadata": {}
        },
        {
          "output_type": "display_data",
          "data": {
            "text/plain": [
              "<Figure size 640x480 with 1 Axes>"
            ],
            "image/png": "[encoded data removed]"
          },
          "metadata": {}
        }
      ]
    },
    {
      "cell_type": "markdown",
      "source": [
        "## Obtain the confusion matrix and other metrics"
      ],
      "metadata": {
        "id": "REkLl9uRgThi"
      }
    },
    {
      "cell_type": "code",
      "source": [
        "## Besides accuracy, other metrics can be seen here (e.g. recall, F1 etc.) if needed\n",
        "\n",
        "from sklearn.metrics import classification_report, confusion_matrix\n",
        "\n",
        "true_labels, predictions_labels, avg_epoch_loss = test(test_dataloader, device)\n",
        "\n",
        "evaluation_report = classification_report(true_labels, predictions_labels, labels=list(label_encoding.values()), target_names=list(label_encoding.keys()))\n",
        "print(evaluation_report)\n",
        "\n",
        "print(\"Confusion Matrix\")\n",
        "confusion_matrix(true_labels, predictions_labels, labels=list(label_encoding.values()))"
      ],
      "metadata": {
        "id": "1GaNfpUJDT1O",
        "colab": {
          "base_uri": "https://localhost:8080/"
        },
        "outputId": "1f7bd623-e735-4cad-fc2b-e1bc056e2241"
      },
      "execution_count": 31,
      "outputs": [
        {
          "output_type": "stream",
          "name": "stdout",
          "text": [
            "              precision    recall  f1-score   support\n",
            "\n",
            "     generic       0.00      0.00      0.00        19\n",
            " descriptive       0.50      0.21      0.30        19\n",
            "  suggestive       0.08      0.11      0.09        19\n",
            "   arbitrary       0.31      0.74      0.44        19\n",
            "    fanciful       0.27      0.21      0.24        19\n",
            "\n",
            "    accuracy                           0.25        95\n",
            "   macro avg       0.23      0.25      0.21        95\n",
            "weighted avg       0.23      0.25      0.21        95\n",
            "\n",
            "Confusion Matrix\n"
          ]
        },
        {
          "output_type": "execute_result",
          "data": {
            "text/plain": [
              "array([[ 0,  2, 13,  3,  1],\n",
              "       [ 0,  4,  4,  7,  4],\n",
              "       [ 2,  0,  2, 11,  4],\n",
              "       [ 0,  0,  3, 14,  2],\n",
              "       [ 0,  2,  3, 10,  4]])"
            ]
          },
          "metadata": {},
          "execution_count": 31
        }
      ]
    },
    {
      "cell_type": "code",
      "source": [],
      "metadata": {
        "id": "xo4B9wCfin2W"
      },
      "execution_count": null,
      "outputs": []
    }
  ]
}